{
 "cells": [
  {
   "cell_type": "markdown",
   "id": "ee2ddd8e-af13-4d19-9e1d-6a6cdc3d0871",
   "metadata": {},
   "source": [
    "using while loop effectively"
   ]
  },
  {
   "cell_type": "code",
   "execution_count": 2,
   "id": "37c5dbf9-534e-4fd8-9907-729b3bcb5f7d",
   "metadata": {},
   "outputs": [
    {
     "name": "stdout",
     "output_type": "stream",
     "text": [
      "The sum of numbers from 1 to 10 is: 55\n"
     ]
    }
   ],
   "source": [
    "# Initialize variables\n",
    "sum_numbers = 0\n",
    "count = 1\n",
    "\n",
    "# Use a while loop to sum numbers from 1 to 10\n",
    "while count <= 10:\n",
    "    sum_numbers += count  # Add the current count to the sum\n",
    "    count += 1            # Increment the counter\n",
    "\n",
    "print(\"The sum of numbers from 1 to 10 is:\", sum_numbers)\n"
   ]
  },
  {
   "cell_type": "markdown",
   "id": "afb92728-472b-4b48-8b6f-ef42851b79c5",
   "metadata": {},
   "source": [
    "implement for loops with continue and break statement"
   ]
  },
  {
   "cell_type": "code",
   "execution_count": 10,
   "id": "4b3f622b-fd43-4d21-b23e-ab852271a637",
   "metadata": {},
   "outputs": [
    {
     "name": "stdout",
     "output_type": "stream",
     "text": [
      "Current number is: 1\n",
      "Current number is: 2\n",
      "Current number is: 3\n",
      "Current number is: 4\n",
      "Current number is: 6\n",
      "Current number is: 7\n"
     ]
    }
   ],
   "source": [
    "# Check numbers from 1 to 10\n",
    "for num in range(1, 11): \n",
    "    if num == 5:\n",
    "        continue #skipping number 5\n",
    "        \n",
    "    if num == 8:\n",
    "        break #  break at number 8\n",
    "                  \n",
    "    print(\"Current number is:\", num)\n"
   ]
  },
  {
   "cell_type": "markdown",
   "id": "d112b607-2eb2-489f-8591-f868bb0d7727",
   "metadata": {},
   "source": [
    "Use if-else statements to handle conditional logic."
   ]
  },
  {
   "cell_type": "code",
   "execution_count": 16,
   "id": "1e023f19-a85b-4608-ba19-3bac002a783e",
   "metadata": {},
   "outputs": [
    {
     "name": "stdin",
     "output_type": "stream",
     "text": [
      "Enter a number:  7\n"
     ]
    },
    {
     "name": "stdout",
     "output_type": "stream",
     "text": [
      "The number is positive.\n"
     ]
    }
   ],
   "source": [
    "# check if number is positive, negative or zero\n",
    "\n",
    "\n",
    "number = int(input(\"Enter a number: \"))\n",
    "if number > 0:\n",
    "    print(\"The number is positive.\")\n",
    "elif number < 0:\n",
    "    print(\"The number is negative.\")\n",
    "else:\n",
    "    print(\"The number is zero.\")\n"
   ]
  },
  {
   "cell_type": "markdown",
   "id": "2873307e-b82f-45ea-b7f0-e2304d494088",
   "metadata": {},
   "source": [
    "Write nested loops for more complex logic."
   ]
  },
  {
   "cell_type": "code",
   "execution_count": 18,
   "id": "f0134d35-c848-4425-87fb-bdfb6d1e3446",
   "metadata": {},
   "outputs": [
    {
     "name": "stdout",
     "output_type": "stream",
     "text": [
      "2 is a prime number.\n",
      "3 is a prime number.\n",
      "5 is a prime number.\n",
      "7 is a prime number.\n",
      "11 is a prime number.\n",
      "13 is a prime number.\n",
      "17 is a prime number.\n",
      "19 is a prime number.\n"
     ]
    }
   ],
   "source": [
    "# Find prime numbers between 2 and 20\n",
    "for num in range(2, 21):\n",
    "    is_prime = True\n",
    "    for i in range(2, num): \n",
    "        if num % i == 0: \n",
    "            is_prime = False\n",
    "            break  \n",
    "    if is_prime: \n",
    "        print(f\"{num} is a prime number.\")\n"
   ]
  },
  {
   "cell_type": "code",
   "execution_count": null,
   "id": "09a7ae09-dcb6-40e2-82aa-6d73baed68e6",
   "metadata": {},
   "outputs": [],
   "source": []
  }
 ],
 "metadata": {
  "kernelspec": {
   "display_name": "Python [conda env:magapro]",
   "language": "python",
   "name": "conda-env-magapro-py"
  },
  "language_info": {
   "codemirror_mode": {
    "name": "ipython",
    "version": 3
   },
   "file_extension": ".py",
   "mimetype": "text/x-python",
   "name": "python",
   "nbconvert_exporter": "python",
   "pygments_lexer": "ipython3",
   "version": "3.12.8"
  }
 },
 "nbformat": 4,
 "nbformat_minor": 5
}
